{
 "cells": [
  {
   "cell_type": "code",
   "execution_count": 2,
   "metadata": {},
   "outputs": [
    {
     "name": "stderr",
     "output_type": "stream",
     "text": [
      "/usr/lib/python3/dist-packages/requests/__init__.py:89: RequestsDependencyWarning: urllib3 (1.26.9) or chardet (3.0.4) doesn't match a supported version!\n",
      "  warnings.warn(\"urllib3 ({}) or chardet ({}) doesn't match a supported \"\n"
     ]
    }
   ],
   "source": [
    "from datetime import datetime\n",
    "from pickle import FALSE\n",
    "from pymongo import MongoClient\n",
    "from tqdm import tqdm\n",
    "import re\n",
    "import numpy as np\n",
    "from collections import Counter\n",
    "import pandas as pd"
   ]
  },
  {
   "cell_type": "code",
   "execution_count": 3,
   "metadata": {},
   "outputs": [],
   "source": [
    "TRIBUNAIS = ['tjmg','tjpb','trf2','stj']\n",
    "SPLITS = ['test', 'validation', 'train']"
   ]
  },
  {
   "cell_type": "code",
   "execution_count": 4,
   "metadata": {},
   "outputs": [],
   "source": [
    "def statistics(TRIBUNAL, SPLIT):\n",
    "    mongocoll = MongoClient().juridico[TRIBUNAL+'_labeled_lines']\n",
    "\n",
    "    num_docs = 0 \n",
    "    num_pages = 0\n",
    "    num_lines = 0\n",
    "\n",
    "    doc_labels = []\n",
    "\n",
    "    if SPLIT == 'train':\n",
    "        filter = {'$or':[{'dataset':{'$exists':0}},{'dataset':'train'}]}\n",
    "\n",
    "    else:\n",
    "        filter = {'dataset':SPLIT}\n",
    "\n",
    "    #mongocoll.find({'dataset':SPLIT},{'document.lines.tokens':0, \"x\" : 0, \"width\" : 0, \"y\" : 0, \"height\" : 0})\n",
    "\n",
    "    for doc in mongocoll.find(filter,\n",
    "                             {'document.lines.tokens':0, \"document.lines.x\" : 0, \"document.lines.width\" : 0, \"document.lines.y\" : 0, \"document.lines.height\" : 0}):\n",
    "        num_docs += 1\n",
    "        num_pages += len(doc['document'])\n",
    "\n",
    "        #print([j['section_label'] for i in doc['document'] for j in i['lines']])\n",
    "        page_labels = [j['section_label'] for i in doc['document'] for j in i['lines']]\n",
    "\n",
    "        num_lines += len(page_labels)\n",
    "        \n",
    "        doc_labels.append(page_labels)\n",
    "\n",
    "    classes = Counter([item for sublist in doc_labels for item in sublist])\n",
    "\n",
    "    return{\n",
    "        'tribunal':TRIBUNAL,\n",
    "        'split': SPLIT,\n",
    "        'num_docs':num_docs,\n",
    "        'num_pages':num_pages,\n",
    "        'num_lines':num_lines,\n",
    "        'classes': classes\n",
    "    }\n"
   ]
  },
  {
   "cell_type": "code",
   "execution_count": 6,
   "metadata": {},
   "outputs": [
    {
     "data": {
      "text/plain": [
       "{'tribunal': 'stj',\n",
       " 'split': 'train',\n",
       " 'num_docs': 500998,\n",
       " 'num_pages': 4938541,\n",
       " 'num_lines': 171215647,\n",
       " 'classes': Counter({'None': 11333333,\n",
       "          'PARTES': 9903318,\n",
       "          'EMENTA': 18389733,\n",
       "          'ACORDAO': 6212443,\n",
       "          'RELATORIO': 20642953,\n",
       "          'VOTO': 85918807,\n",
       "          'CERTIDAO_DE_JULGAMENTO': 7704474,\n",
       "          'AUTUACAO': 7372945,\n",
       "          'CERTIDAO': 3737641})}"
      ]
     },
     "execution_count": 6,
     "metadata": {},
     "output_type": "execute_result"
    }
   ],
   "source": [
    "statistics('stj', 'train')"
   ]
  },
  {
   "cell_type": "code",
   "execution_count": 37,
   "metadata": {},
   "outputs": [],
   "source": [
    "def statistics(TRIBUNAL, SPLIT):\n",
    "    mongocoll = MongoClient().juridico[TRIBUNAL+'_labeled_lines']\n",
    "\n",
    "    num_docs = 0 \n",
    "    num_pages = 0\n",
    "    num_lines = 0\n",
    "\n",
    "    doc_labels = []\n",
    "\n",
    "    if SPLIT == 'train':\n",
    "        filter = {'$match' : {'dataset':{'$exists': 0}}}\n",
    "    else:\n",
    "        filter = {'$match' : {'dataset':SPLIT}}\n",
    "\n",
    "    mongocoll.find({'dataset':SPLIT},{'document.lines.tokens':0})\n",
    "\n",
    "    for doc in mongocoll.aggregate([filter,{'$project' : \n",
    "                                {'page':\"$document.lines.section_label\"}\n",
    "                            }]):#,{'$limit' : 5 }])):\n",
    "        num_docs += 1\n",
    "        num_pages += len(doc['page'])\n",
    "        page_labels = [item for sublist in doc['page'] for item in sublist]\n",
    "\n",
    "        num_lines += len(page_labels)\n",
    "        \n",
    "        doc_labels.append(page_labels)\n",
    "\n",
    "    classes = Counter([item for sublist in doc_labels for item in sublist])\n",
    "\n",
    "    return{\n",
    "        'tribunal':tribunal,\n",
    "        'split': split,\n",
    "        'num_docs':num_docs,\n",
    "        'num_pages':num_pages,\n",
    "        'num_lines':num_lines,\n",
    "        'classes': classes\n",
    "    }\n"
   ]
  },
  {
   "cell_type": "code",
   "execution_count": 126,
   "metadata": {},
   "outputs": [
    {
     "ename": "Error",
     "evalue": "Canceled future for execute_request message before replies were done",
     "output_type": "error",
     "traceback": [
      "Error: Canceled future for execute_request message before replies were done",
      "at t.KernelShellFutureHandler.dispose (/home/marlon/.vscode-server/extensions/ms-toolsai.jupyter-2022.3.1000901801/out/extension.js:2:1204175)",
      "at /home/marlon/.vscode-server/extensions/ms-toolsai.jupyter-2022.3.1000901801/out/extension.js:2:1223227",
      "at Map.forEach (<anonymous>)",
      "at v._clearKernelState (/home/marlon/.vscode-server/extensions/ms-toolsai.jupyter-2022.3.1000901801/out/extension.js:2:1223212)",
      "at v.dispose (/home/marlon/.vscode-server/extensions/ms-toolsai.jupyter-2022.3.1000901801/out/extension.js:2:1216694)",
      "at /home/marlon/.vscode-server/extensions/ms-toolsai.jupyter-2022.3.1000901801/out/extension.js:2:533674",
      "at t.swallowExceptions (/home/marlon/.vscode-server/extensions/ms-toolsai.jupyter-2022.3.1000901801/out/extension.js:2:913059)",
      "at dispose (/home/marlon/.vscode-server/extensions/ms-toolsai.jupyter-2022.3.1000901801/out/extension.js:2:533652)",
      "at t.RawSession.dispose (/home/marlon/.vscode-server/extensions/ms-toolsai.jupyter-2022.3.1000901801/out/extension.js:2:537330)",
      "at runMicrotasks (<anonymous>)",
      "at processTicksAndRejections (node:internal/process/task_queues:96:5)"
     ]
    }
   ],
   "source": [
    "df_geral = pd.DataFrame()\n",
    "for tribunal in TRIBUNAIS:\n",
    "    for split in SPLITS:\n",
    "        data = (statistics(tribunal,split))\n",
    "        classes = {}\n",
    "\n",
    "        #consolida informações de sumarização de classes por tribunal.\n",
    "        for i in data['classes']:\n",
    "            classes.update({i: str(data['classes'][i])+'('+str(round(100*(data['classes'][i]/data['num_lines']),2))+\"%)\"})\n",
    "        \n",
    "\n",
    "        #concatena numeros gerais e sumarização de classes\n",
    "        attr = {**{'Número de documentos': data['num_docs'],\n",
    "                'Número de páginas': data['num_pages'],\n",
    "                'Número de linhas': data['num_lines']},\n",
    "                **classes}\n",
    "        df = pd.DataFrame(attr.values(), columns=[tribunal.upper()+\" \"+split.upper()], index=attr.keys()).T\n",
    "        df_geral = pd.concat([df_geral,df])\n",
    "       \n",
    "        \n",
    "df_geral.fillna(0).T"
   ]
  }
 ],
 "metadata": {
  "interpreter": {
   "hash": "916dbcbb3f70747c44a77c7bcd40155683ae19c65e1c03b4aa3499c5328201f1"
  },
  "kernelspec": {
   "display_name": "Python 3.8.10 64-bit",
   "language": "python",
   "name": "python3"
  },
  "language_info": {
   "codemirror_mode": {
    "name": "ipython",
    "version": 3
   },
   "file_extension": ".py",
   "mimetype": "text/x-python",
   "name": "python",
   "nbconvert_exporter": "python",
   "pygments_lexer": "ipython3",
   "version": "3.8.10"
  },
  "orig_nbformat": 4
 },
 "nbformat": 4,
 "nbformat_minor": 2
}
